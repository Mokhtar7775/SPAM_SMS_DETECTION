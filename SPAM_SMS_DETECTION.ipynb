{
  "nbformat": 4,
  "nbformat_minor": 0,
  "metadata": {
    "colab": {
      "provenance": []
    },
    "kernelspec": {
      "name": "python3",
      "display_name": "Python 3"
    },
    "language_info": {
      "name": "python"
    }
  },
  "cells": [
    {
      "cell_type": "code",
      "source": [
        "from google.colab import drive\n",
        "drive.mount('/content/drive')"
      ],
      "metadata": {
        "colab": {
          "base_uri": "https://localhost:8080/"
        },
        "id": "oY99fGOqK01r",
        "outputId": "0a2c36b7-09a4-410d-a000-16d30fac11ab"
      },
      "execution_count": 1,
      "outputs": [
        {
          "output_type": "stream",
          "name": "stdout",
          "text": [
            "Mounted at /content/drive\n"
          ]
        }
      ]
    },
    {
      "cell_type": "code",
      "execution_count": 2,
      "metadata": {
        "colab": {
          "base_uri": "https://localhost:8080/"
        },
        "id": "BHI86YoJKBo7",
        "outputId": "8bc36b5b-9552-463a-c0e8-5f424a0f1567"
      },
      "outputs": [
        {
          "output_type": "stream",
          "name": "stdout",
          "text": [
            "Accuracy: 0.9721973094170404\n",
            "Confusion Matrix:\n",
            "[[965   0]\n",
            " [ 31 119]]\n",
            "Classification Report:\n",
            "              precision    recall  f1-score   support\n",
            "\n",
            "           0       0.97      1.00      0.98       965\n",
            "           1       1.00      0.79      0.88       150\n",
            "\n",
            "    accuracy                           0.97      1115\n",
            "   macro avg       0.98      0.90      0.93      1115\n",
            "weighted avg       0.97      0.97      0.97      1115\n",
            "\n",
            "Message: Congratulations! You've won a free vacation.\n",
            "Prediction: Legitimate\n",
            "\n",
            "Message: Meeting at 3 pm in the conference room.\n",
            "Prediction: Legitimate\n",
            "\n"
          ]
        }
      ],
      "source": [
        "import pandas as pd\n",
        "from sklearn.model_selection import train_test_split\n",
        "from sklearn.feature_extraction.text import TfidfVectorizer\n",
        "from sklearn.naive_bayes import MultinomialNB\n",
        "from sklearn.metrics import accuracy_score, classification_report, confusion_matrix\n",
        "\n",
        "# Load the dataset with a specified encoding and select relevant columns\n",
        "data = pd.read_csv('/content/drive/MyDrive/spam.csv', encoding='latin-1', usecols=['v1', 'v2'])\n",
        "\n",
        "# Rename columns for clarity\n",
        "data.columns = ['label', 'text']\n",
        "\n",
        "# Convert labels to numerical values (0 for legitimate, 1 for spam)\n",
        "data['label'] = data['label'].map({'ham': 0, 'spam': 1})\n",
        "\n",
        "# Split the data into training and testing sets\n",
        "X_train, X_test, y_train, y_test = train_test_split(data['text'], data['label'], test_size=0.2, random_state=42)\n",
        "\n",
        "# Create TF-IDF vectorizer\n",
        "tfidf_vectorizer = TfidfVectorizer(stop_words='english', max_features=5000)\n",
        "\n",
        "# Fit and transform the training data\n",
        "X_train_tfidf = tfidf_vectorizer.fit_transform(X_train)\n",
        "\n",
        "# Transform the test data\n",
        "X_test_tfidf = tfidf_vectorizer.transform(X_test)\n",
        "\n",
        "# Create Naive Bayes classifier\n",
        "naive_bayes_classifier = MultinomialNB()\n",
        "\n",
        "# Train the classifier\n",
        "naive_bayes_classifier.fit(X_train_tfidf, y_train)\n",
        "\n",
        "# Make predictions on the test set\n",
        "y_pred = naive_bayes_classifier.predict(X_test_tfidf)\n",
        "\n",
        "# Evaluate the model\n",
        "accuracy = accuracy_score(y_test, y_pred)\n",
        "conf_matrix = confusion_matrix(y_test, y_pred)\n",
        "classification_rep = classification_report(y_test, y_pred)\n",
        "\n",
        "print(f'Accuracy: {accuracy}')\n",
        "print(f'Confusion Matrix:\\n{conf_matrix}')\n",
        "print(f'Classification Report:\\n{classification_rep}')\n",
        "\n",
        "# Example usage\n",
        "new_messages = [\"Congratulations! You've won a free vacation.\", \"Meeting at 3 pm in the conference room.\"]\n",
        "new_messages_tfidf = tfidf_vectorizer.transform(new_messages)\n",
        "predictions = naive_bayes_classifier.predict(new_messages_tfidf)\n",
        "\n",
        "for message, prediction in zip(new_messages, predictions):\n",
        "    print(f'Message: {message}\\nPrediction: {\"Spam\" if prediction == 1 else \"Legitimate\"}\\n')\n"
      ]
    }
  ]
}